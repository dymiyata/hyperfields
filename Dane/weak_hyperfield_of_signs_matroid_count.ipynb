{
 "cells": [
  {
   "cell_type": "code",
   "execution_count": 1,
   "metadata": {},
   "outputs": [],
   "source": [
    "import itertools\n",
    "from copy import deepcopy\n",
    "    \n",
    "def perform_bubble_sort(blist):\n",
    "    swapcount = 0\n",
    "    for j in range(len(blist)):\n",
    "        for i in range(1, len(blist)-j):\n",
    "            if blist[i-1] > blist[i]:\n",
    "                swapcount += 1\n",
    "                blist[i-1], blist[i] = blist[i], blist[i-1]\n",
    "    return swapcount\n",
    "\n",
    "# hypersum = {\n",
    "#     (0,0): {0},\n",
    "#     (1,0): {1},\n",
    "#     (-1,0): {-1},\n",
    "#     (0,1): {1}, \n",
    "#     (0,-1):{-1},\n",
    "#     (1,1): {1,-1},\n",
    "#     (1,-1): {0,1,-1},\n",
    "#     (-1,0): {-1},\n",
    "#     (-1,1): {0,1,-1},\n",
    "#     (-1,-1): {1,-1}\n",
    "# }\n",
    "\n",
    "hypersum = {\n",
    "    (0,0): {0},\n",
    "    (1,0): {1},\n",
    "    (-1,0): {-1},\n",
    "    (0,1): {1}, \n",
    "    (0,-1):{-1},\n",
    "    (1,1): {1},\n",
    "    (1,-1): {0,1,-1},\n",
    "    (-1,0): {-1},\n",
    "    (-1,1): {0,1,-1},\n",
    "    (-1,-1): {-1}\n",
    "}\n",
    "\n",
    "\n",
    "def hyper_set_sum(A,B):\n",
    "    theSum = set()\n",
    "    for a in A:\n",
    "        for b in B:\n",
    "            theSum = theSum.union(hypersum[a,b])\n",
    "    return theSum\n",
    "\n",
    "def hyper_list_sum(theList):\n",
    "    if len(theList)==0:\n",
    "        return set()\n",
    "    theSum = {theList[0]}\n",
    "    for i in range(1,len(theList)):\n",
    "        theSum = hyper_set_sum(theSum,{theList[i]})\n",
    "    return theSum"
   ]
  },
  {
   "cell_type": "code",
   "execution_count": 2,
   "metadata": {},
   "outputs": [
    {
     "data": {
      "text/plain": [
       "{1}"
      ]
     },
     "execution_count": 2,
     "metadata": {},
     "output_type": "execute_result"
    }
   ],
   "source": [
    "hyper_list_sum([0,1,0,1,1])"
   ]
  },
  {
   "cell_type": "code",
   "execution_count": 3,
   "metadata": {},
   "outputs": [],
   "source": [
    "def count_matroids(n,d):\n",
    "    nList = list(range(1,n+1))\n",
    "    count = -1\n",
    "    possible_bases = list(itertools.combinations(nList,d))\n",
    "    for outputs in itertools.product([-1,0,1], repeat = len(possible_bases)):\n",
    "        isGood=True\n",
    "        PluckerFunc = dict(zip(possible_bases, outputs))\n",
    "        for p1 in itertools.permutations(nList,int(d+1)):\n",
    "            perm1=list(p1)\n",
    "            for p2 in itertools.permutations(nList,int(d-1)):\n",
    "                perm2=list(p2)\n",
    "                relationList = []\n",
    "                for k in range(d+1):\n",
    "                    if perm1[k] in perm2:\n",
    "                        relationList.append(0)\n",
    "                        continue\n",
    "                    newperm1 = deepcopy(perm1)\n",
    "                    newperm1.pop(k)\n",
    "                    value1 = (-1)**perform_bubble_sort(newperm1)*PluckerFunc[tuple(sorted(newperm1))]\n",
    "                    newperm2=deepcopy(perm2)\n",
    "                    newperm2.insert(0, perm1[k])\n",
    "                    value2 = (-1)**perform_bubble_sort(newperm2)*PluckerFunc[tuple(sorted(newperm2))]\n",
    "                    relationList.append((-1)**(k+1)*value1*value2)\n",
    "                if 0 not in hyper_list_sum(relationList):\n",
    "                    isGood=False\n",
    "                    break\n",
    "            if not isGood:\n",
    "                break\n",
    "        if isGood:\n",
    "            count+=1\n",
    "    return count//2"
   ]
  },
  {
   "cell_type": "code",
   "execution_count": 6,
   "metadata": {},
   "outputs": [
    {
     "name": "stdout",
     "output_type": "stream",
     "text": [
      "There are 1802 matroids of rank 2 on 5 elements.\n"
     ]
    }
   ],
   "source": [
    "d=2\n",
    "n=5\n",
    "print(\"There are \"+str(count_matroids(n,d))+ \" matroids of rank \"+str(d)+\" on \"+str(n)+\" elements.\")"
   ]
  },
  {
   "cell_type": "code",
   "execution_count": null,
   "metadata": {},
   "outputs": [],
   "source": []
  }
 ],
 "metadata": {
  "kernelspec": {
   "display_name": "Python 3",
   "language": "python",
   "name": "python3"
  },
  "language_info": {
   "codemirror_mode": {
    "name": "ipython",
    "version": 3
   },
   "file_extension": ".py",
   "mimetype": "text/x-python",
   "name": "python",
   "nbconvert_exporter": "python",
   "pygments_lexer": "ipython3",
   "version": "3.7.7"
  }
 },
 "nbformat": 4,
 "nbformat_minor": 4
}
