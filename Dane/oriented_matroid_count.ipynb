{
 "cells": [
  {
   "cell_type": "code",
   "execution_count": 1,
   "metadata": {},
   "outputs": [
    {
     "name": "stdout",
     "output_type": "stream",
     "text": [
      "(1, 2)\n",
      "(1, 3)\n",
      "(2, 3)\n"
     ]
    }
   ],
   "source": [
    "import itertools\n",
    "from copy import deepcopy\n",
    "    \n",
    "def perform_bubble_sort(blist):\n",
    "    swapcount = 0\n",
    "    for j in range(len(blist)):\n",
    "        for i in range(1, len(blist)-j):\n",
    "            if blist[i-1] > blist[i]:\n",
    "                swapcount += 1\n",
    "                blist[i-1], blist[i] = blist[i], blist[i-1]\n",
    "    return swapcount"
   ]
  },
  {
   "cell_type": "code",
   "execution_count": 45,
   "metadata": {},
   "outputs": [
    {
     "name": "stdout",
     "output_type": "stream",
     "text": [
      "7174453\n"
     ]
    }
   ],
   "source": [
    "d=2\n",
    "n=6\n",
    "nList = list(range(1,n+1))\n",
    "count = -1\n",
    "possible_bases = list(itertools.combinations(nList,d))\n",
    "for plusminusone in itertools.product([-1,0,1], repeat = len(possible_bases)):\n",
    "    isGood=True\n",
    "    PluckerFunc = dict(zip(possible_bases, plusminusone))\n",
    "    for p1 in itertools.permutations(nList,int(d)):\n",
    "        perm1=list(p1)\n",
    "        for p2 in itertools.permutations(nList,int(d)):\n",
    "            perm2=list(p2)\n",
    "            sgn1 = perform_bubble_sort(perm1)\n",
    "            sgn2 = perform_bubble_sort(perm2)\n",
    "            if PluckerFunc[tuple(sorted(perm1))]*PluckerFunc[tuple(sorted(perm2))]*(-1)**(sgn1+sgn2) >= 0:\n",
    "                continue\n",
    "            newperm1 = deepcopy(perm1)\n",
    "            newperm1.pop(0)\n",
    "            for i in range(len(perm2)):\n",
    "                if perm2[i] in newperm1:\n",
    "                    continue\n",
    "                newperm1.insert(0,perm2[i])\n",
    "                newperm2=deepcopy(perm2)\n",
    "                newperm2.pop(i)\n",
    "                if perm1[0] in newperm2:\n",
    "                    continue\n",
    "                newperm2.insert(i,perm1[0])\n",
    "                newsgn1 = perform_bubble_sort(newperm1)\n",
    "                newsgn2 = perform_bubble_sort(newperm2)\n",
    "                if PluckerFunc[tuple(sorted(newperm1))]*PluckerFunc[tuple(sorted(newperm2))]*(-1)**(newsgn1+newsgn2) < 0:\n",
    "                    break\n",
    "                if i == len(perm2):\n",
    "                    isGood=False\n",
    "                    break\n",
    "            if isGood:\n",
    "                break\n",
    "        if isGood:\n",
    "            break\n",
    "    if isGood:\n",
    "        count+=1\n",
    "count = int(0.5*count)\n",
    "print(count)        "
   ]
  },
  {
   "cell_type": "code",
   "execution_count": 37,
   "metadata": {},
   "outputs": [
    {
     "name": "stdout",
     "output_type": "stream",
     "text": [
      "[1, 2, 3, 4, 5]\n"
     ]
    }
   ],
   "source": [
    "a=list((5,1,2,4,3))\n",
    "a.sort()\n",
    "print(a)"
   ]
  },
  {
   "cell_type": "code",
   "execution_count": 3,
   "metadata": {},
   "outputs": [
    {
     "name": "stdout",
     "output_type": "stream",
     "text": [
      "[(1, 2, 3), (1, 3, 2), (2, 1, 3), (2, 3, 1), (3, 1, 2), (3, 2, 1)]\n"
     ]
    }
   ],
   "source": [
    "print(list(itertools.permutations(range(1,4),int(3))))"
   ]
  },
  {
   "cell_type": "code",
   "execution_count": null,
   "metadata": {},
   "outputs": [],
   "source": []
  }
 ],
 "metadata": {
  "kernelspec": {
   "display_name": "SageMath 9.2",
   "language": "sage",
   "name": "sagemath"
  },
  "language_info": {
   "codemirror_mode": {
    "name": "ipython",
    "version": 3
   },
   "file_extension": ".py",
   "mimetype": "text/x-python",
   "name": "python",
   "nbconvert_exporter": "python",
   "pygments_lexer": "ipython3",
   "version": "3.7.7"
  }
 },
 "nbformat": 4,
 "nbformat_minor": 4
}
