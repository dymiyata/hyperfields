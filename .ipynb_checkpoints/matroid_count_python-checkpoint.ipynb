{
 "cells": [
  {
   "cell_type": "code",
   "execution_count": 43,
   "metadata": {},
   "outputs": [],
   "source": [
    "import itertools\n",
    "from copy import deepcopy\n",
    "    \n",
    "def perform_bubble_sort(blist):\n",
    "    swapcount = 0\n",
    "    for j in range(len(blist)):\n",
    "        for i in range(1, len(blist)-j):\n",
    "            if blist[i-1] > blist[i]:\n",
    "                swapcount += 1\n",
    "                blist[i-1], blist[i] = blist[i], blist[i-1]\n",
    "    return swapcount\n",
    "\n",
    "Kras_sum = {(0,0): {0}, (1,0): {1}, (0,1): {1}, (1,1):{0,1}}\n",
    "\n",
    "def Kras_set_sum(A,B):\n",
    "    theSum = set()\n",
    "    for a in A:\n",
    "        for b in B:\n",
    "            theSum = theSum.union(Kras_sum[a,b])\n",
    "    return theSum\n",
    "\n",
    "def Kras_list_sum(theList):\n",
    "    if len(theList)==0:\n",
    "        return set()\n",
    "    theSum = {theList[0]}\n",
    "    for i in range(1,len(theList)):\n",
    "        theSum = Kras_set_sum(theSum,{theList[i]})\n",
    "    return theSum"
   ]
  },
  {
   "cell_type": "code",
   "execution_count": 44,
   "metadata": {},
   "outputs": [],
   "source": [
    "def count_matroids(n,d):\n",
    "    nList = list(range(1,n+1))\n",
    "    count = -1\n",
    "    possible_bases = list(itertools.combinations(nList,d))\n",
    "    for zero_one in itertools.product([0,1], repeat = len(possible_bases)):\n",
    "        isGood=True\n",
    "        PluckerFunc = dict(zip(possible_bases, zero_one))\n",
    "        for p1 in itertools.permutations(nList,int(d+1)):\n",
    "            perm1=list(p1)\n",
    "            for p2 in itertools.permutations(nList,int(d-1)):\n",
    "                perm2=list(p2)\n",
    "                relationList = []\n",
    "                for k in range(d+1):\n",
    "                    if perm1[k] in perm2:\n",
    "                        relationList.append(0)\n",
    "                        continue\n",
    "                    newperm1 = deepcopy(perm1)\n",
    "                    newperm1.pop(k)\n",
    "                    value1 = PluckerFunc[tuple(sorted(newperm1))]\n",
    "                    newperm2=deepcopy(perm2)\n",
    "                    newperm2.insert(k, perm1[k])\n",
    "                    value2 = PluckerFunc[tuple(sorted(newperm2))]\n",
    "                    relationList.append(value1*value2)\n",
    "                if 0 not in Kras_list_sum(relationList):\n",
    "                    isGood=False\n",
    "                    break\n",
    "            if not isGood:\n",
    "                break\n",
    "        if isGood:\n",
    "            count+=1\n",
    "    return count"
   ]
  },
  {
   "cell_type": "code",
   "execution_count": 45,
   "metadata": {},
   "outputs": [
    {
     "data": {
      "text/plain": [
       "813"
      ]
     },
     "execution_count": 45,
     "metadata": {},
     "output_type": "execute_result"
    }
   ],
   "source": [
    "count_matroids(6,2)"
   ]
  },
  {
   "cell_type": "code",
   "execution_count": null,
   "metadata": {},
   "outputs": [],
   "source": []
  }
 ],
 "metadata": {
  "kernelspec": {
   "display_name": "Python 3",
   "language": "python",
   "name": "python3"
  },
  "language_info": {
   "codemirror_mode": {
    "name": "ipython",
    "version": 3
   },
   "file_extension": ".py",
   "mimetype": "text/x-python",
   "name": "python",
   "nbconvert_exporter": "python",
   "pygments_lexer": "ipython3",
   "version": "3.7.7"
  }
 },
 "nbformat": 4,
 "nbformat_minor": 4
}
