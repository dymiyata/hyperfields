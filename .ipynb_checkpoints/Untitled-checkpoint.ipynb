{
 "cells": [
  {
   "cell_type": "code",
   "execution_count": 3,
   "metadata": {},
   "outputs": [],
   "source": [
    "import itertools\n",
    "from copy import deepcopy\n",
    "    \n",
    "def perform_bubble_sort(blist):\n",
    "    swapcount = 0\n",
    "    for j in range(len(blist)):\n",
    "        for i in range(1, len(blist)-j):\n",
    "            if blist[i-1] > blist[i]:\n",
    "                swapcount += 1\n",
    "                blist[i-1], blist[i] = blist[i], blist[i-1]\n",
    "    return swapcount\n",
    "hypersum = {\n",
    "    (0,0): {0},\n",
    "    (1,0): {1},\n",
    "    (-1,0): {-1},\n",
    "    (0,1): {1}, \n",
    "    (0,-1):{-1},\n",
    "    (1,1): {1,-1},\n",
    "    (1,-1): {0,1,-1},\n",
    "    (-1,0): {-1},\n",
    "    (-1,1): {0,1,-1},\n",
    "    (-1,-1): {1,-1}\n",
    "}\n",
    "\n",
    "\n",
    "def hyper_set_sum(A,B):\n",
    "    theSum = set()\n",
    "    for a in A:\n",
    "        for b in B:\n",
    "            theSum = theSum.union(hypersum[a,b])\n",
    "    return theSum\n",
    "\n",
    "def hyper_list_sum(theList):\n",
    "    if len(theList)==0:\n",
    "        return set()\n",
    "    theSum = {theList[0]}\n",
    "    for i in range(1,len(theList)):\n",
    "        theSum = hyper_set_sum(theSum,{theList[i]})\n",
    "    return theSum"
   ]
  },
  {
   "cell_type": "code",
   "execution_count": null,
   "metadata": {},
   "outputs": [],
   "source": []
  }
 ],
 "metadata": {
  "kernelspec": {
   "display_name": "Python 3",
   "language": "python",
   "name": "python3"
  },
  "language_info": {
   "codemirror_mode": {
    "name": "ipython",
    "version": 3
   },
   "file_extension": ".py",
   "mimetype": "text/x-python",
   "name": "python",
   "nbconvert_exporter": "python",
   "pygments_lexer": "ipython3",
   "version": "3.7.7"
  }
 },
 "nbformat": 4,
 "nbformat_minor": 4
}
